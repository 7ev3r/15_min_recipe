{
 "cells": [
  {
   "cell_type": "code",
   "execution_count": 1,
   "metadata": {},
   "outputs": [
    {
     "data": {
      "text/plain": [
       "'def get_recipe_info(url: str) -> Dict:\\n        resp = requests.get(url)\\n        soup = BeautifulSoup(resp.content, \"html.parser\")\\n\\n        recipe_title = soup.find(\"div\", class_=\"wrapper\").find(\"h1\").text\\n        main_recipe_image = soup.find(\"div\", class_=\"image col-18\").find(\"img\").get(\"src\")\\n        #about_recipe = soup.find(\"div\", class_=\"authorAboutRecipeSegment\").text\\n\\n        ingredients_div = soup.find(\"div\", class_=\"ingredients\")\\n        #ingredients_table = ingredients_div.find(\"table\")\\n        #tr_rows = ingredients_table.find_all(\"tr\")\\n        ingredients: List[Dict] = []\\n        #try:\\n        #   for tr_row in tr_rows:\\n        #      spans = tr_row.find_all(\"span\")\\n        #     ingredients.append({\"ingredient\": spans[1].text.strip(), \"ammount\": spans[0].text.strip()})\\n        #except IndexError:\\n        #   pass\\n\\n        #making_time = soup.find(\"div\", class_=\"method\").find(\"div\", class_=\"info\").text.strip().replace(\"Paruošimo laikas: \", \"\")\\n        making_steps: List[Dict] = []\\n        description_divs = soup.find(\"div\", class_=\"description text\").find(\"p\", class_=\"description text\").find_all(\"div\", class_=\"description text\")\\n        for step, description_div in enumerate(description_divs):\\n            making_steps.append({\"step\": step + 1, \"description\": description_div.find(\"div\", class_=\"text\").text})\\n        \\n        return {\\n    \"title\": recipe_title.strip(),\\n    \"image\": main_recipe_image,\\n    \"ingredients\": ingredients,\\n    \"making_steps\": making_steps\\n    }\\n'"
      ]
     },
     "execution_count": 1,
     "metadata": {},
     "output_type": "execute_result"
    }
   ],
   "source": [
    "import requests\n",
    "from bs4 import BeautifulSoup\n",
    "\n",
    "from typing import List, Dict, Optional\n",
    "\n",
    "import pandas as pd\n",
    "page = requests.get(\"https://www.15min.lt/maistas/receptai\")\n",
    "\n",
    "soup = BeautifulSoup(page.content, 'html.parser')\n",
    "all_divs = soup.find_all(\"div\")\n",
    "\n",
    "recipes_list_div = soup.find(\"div\", class_=\"wrapper\")\n",
    "all_recipes_div = recipes_list_div.find_all(\"div\", class_=\"list-row\")\n",
    "\n",
    "results: List[Dict] = []\n",
    "for recipe_div in all_recipes_div:\n",
    "    title = recipe_div.find(\"div\", class_=\"list-row-desc fl\").text\n",
    "    link_to_recipe = recipe_div.find(\"a\")[\"href\"]\n",
    "    link_to_image = recipe_div.find(\"img\")[\"src\"]\n",
    "\n",
    "    results.append({\n",
    "        \"title\": title.strip(), \n",
    "        \"link_to_recipe\": link_to_recipe,\n",
    "        \"link_to_image\": link_to_image\n",
    "    })\n",
    "\n",
    "results_df = pd.DataFrame(results)\n",
    "results_df.to_csv(\"15_min.csv\")\n",
    "\n",
    "def extract_recipes_info(url: str) -> Optional[List[Dict]]:\n",
    "    resp = requests.get(url)\n",
    "    if resp.status_code != 200:\n",
    "        raise Exception(\"Cannot reach page!\")\n",
    "    soup = BeautifulSoup(resp.content, 'html.parser')\n",
    "    recipes_list_div = soup.find(\"div\", class_=\"wrapper\")\n",
    "\n",
    "    if not recipes_list_div:\n",
    "        return None    \n",
    "    all_recipes_div = recipes_list_div.find_all(\"div\", class_=\"list-row\")\n",
    "    results: List[Dict] = []\n",
    "    for recipe_div in all_recipes_div:\n",
    "        title = recipe_div.find(\"div\", class_=\"list-row-desc fl\").text\n",
    "        link_to_recipe = recipe_div.find(\"a\")[\"href\"]\n",
    "        link_to_image = recipe_div.find(\"img\")[\"src\"]\n",
    "\n",
    "        results.append({\n",
    "            \"title\": title.strip(), \n",
    "            \"link_to_recipe\": link_to_recipe,\n",
    "            \"link_to_image\": link_to_image\n",
    "        })\n",
    "\n",
    "    return results\n",
    "\n",
    "'''def get_recipe_info(url: str) -> Dict:\n",
    "        resp = requests.get(url)\n",
    "        soup = BeautifulSoup(resp.content, \"html.parser\")\n",
    "\n",
    "        recipe_title = soup.find(\"div\", class_=\"wrapper\").find(\"h1\").text\n",
    "        main_recipe_image = soup.find(\"div\", class_=\"image col-18\").find(\"img\").get(\"src\")\n",
    "        #about_recipe = soup.find(\"div\", class_=\"authorAboutRecipeSegment\").text\n",
    "\n",
    "        ingredients_div = soup.find(\"div\", class_=\"ingredients\")\n",
    "        #ingredients_table = ingredients_div.find(\"table\")\n",
    "        #tr_rows = ingredients_table.find_all(\"tr\")\n",
    "        ingredients: List[Dict] = []\n",
    "        #try:\n",
    "        #   for tr_row in tr_rows:\n",
    "        #      spans = tr_row.find_all(\"span\")\n",
    "        #     ingredients.append({\"ingredient\": spans[1].text.strip(), \"ammount\": spans[0].text.strip()})\n",
    "        #except IndexError:\n",
    "        #   pass\n",
    "\n",
    "        #making_time = soup.find(\"div\", class_=\"method\").find(\"div\", class_=\"info\").text.strip().replace(\"Paruošimo laikas: \", \"\")\n",
    "        making_steps: List[Dict] = []\n",
    "        description_divs = soup.find(\"div\", class_=\"description text\").find(\"p\", class_=\"description text\").find_all(\"div\", class_=\"description text\")\n",
    "        for step, description_div in enumerate(description_divs):\n",
    "            making_steps.append({\"step\": step + 1, \"description\": description_div.find(\"div\", class_=\"text\").text})\n",
    "        \n",
    "        return {\n",
    "    \"title\": recipe_title.strip(),\n",
    "    \"image\": main_recipe_image,\n",
    "    \"ingredients\": ingredients,\n",
    "    \"making_steps\": making_steps\n",
    "    }\n",
    "'''"
   ]
  }
 ],
 "metadata": {
  "kernelspec": {
   "display_name": "Python 3.10.7 64-bit ('3.10.7')",
   "language": "python",
   "name": "python3"
  },
  "language_info": {
   "codemirror_mode": {
    "name": "ipython",
    "version": 3
   },
   "file_extension": ".py",
   "mimetype": "text/x-python",
   "name": "python",
   "nbconvert_exporter": "python",
   "pygments_lexer": "ipython3",
   "version": "3.10.7"
  },
  "orig_nbformat": 4,
  "vscode": {
   "interpreter": {
    "hash": "156b048d07baea21e4ab7b313c877d7f0099a0ac84c0ab0d6f86dd3ff02775d2"
   }
  }
 },
 "nbformat": 4,
 "nbformat_minor": 2
}
